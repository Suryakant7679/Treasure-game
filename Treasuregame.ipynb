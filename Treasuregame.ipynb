{
 "cells": [
  {
   "cell_type": "code",
   "execution_count": 1,
   "id": "f1704e31-bf84-447a-ac31-350b50d17b7a",
   "metadata": {},
   "outputs": [
    {
     "name": "stdout",
     "output_type": "stream",
     "text": [
      "['🤖', '🤖', '🤖']\n",
      "['🤖', '🤖', '🤖']\n",
      "['🤖', '🤖', '🤖']\n",
      "31\n"
     ]
    },
    {
     "name": "stdin",
     "output_type": "stream",
     "text": [
      "Enter your first choice:  12\n"
     ]
    },
    {
     "name": "stdout",
     "output_type": "stream",
     "text": [
      "['🤖', '🤞', '🤖']\n",
      "['🤖', '🤖', '🤖']\n",
      "['🤖', '🤖', '🤖']\n"
     ]
    },
    {
     "name": "stdin",
     "output_type": "stream",
     "text": [
      "Enter your second choice:  22\n"
     ]
    },
    {
     "name": "stdout",
     "output_type": "stream",
     "text": [
      "['🤖', '🤞', '🤖']\n",
      "['🤖', '🤞', '🤖']\n",
      "['🤖', '🤖', '🤖']\n"
     ]
    },
    {
     "name": "stdin",
     "output_type": "stream",
     "text": [
      "Enter your third choice:  31\n"
     ]
    },
    {
     "name": "stdout",
     "output_type": "stream",
     "text": [
      "✌️✌️✌️Yay you won!✌️✌️✌️\n",
      "['🤖', '🤞', '🤖']\n",
      "['🤖', '🤞', '🤖']\n",
      "['🏆', '🤖', '🤖']\n"
     ]
    },
    {
     "ename": "SystemExit",
     "evalue": "",
     "output_type": "error",
     "traceback": [
      "An exception has occurred, use %tb to see the full traceback.\n",
      "\u001b[0;31mSystemExit\u001b[0m\n"
     ]
    },
    {
     "name": "stderr",
     "output_type": "stream",
     "text": [
      "/opt/conda/lib/python3.10/site-packages/IPython/core/interactiveshell.py:3441: UserWarning: To exit: use 'exit', 'quit', or Ctrl-D.\n",
      "  warn(\"To exit: use 'exit', 'quit', or Ctrl-D.\", stacklevel=1)\n"
     ]
    }
   ],
   "source": [
    "import random\n",
    "import sys\n",
    "row1=['🤖','🤖','🤖']\n",
    "row2=['🤖','🤖','🤖']\n",
    "row3=['🤖','🤖','🤖']\n",
    "map=[row1,row2,row3]\n",
    "print(f'{row1}\\n{row2}\\n{row3}')\n",
    "computer_choice=random.choice([11,12,13,21,22,23,31,32,33])\n",
    "print(computer_choice)\n",
    "################################################################\n",
    "your_choice=input(\"Enter your first choice: \")\n",
    "row=int(your_choice[0])-1\n",
    "column=int(your_choice[1])-1\n",
    "if int(your_choice)==computer_choice:\n",
    "    print(\"✌️✌️✌️Yay you won!✌️✌️✌️\")\n",
    "    map[row][column]='🏆'\n",
    "    print(f'{row1}\\n{row2}\\n{row3}')\n",
    "    sys.exit()\n",
    "# INDIcATING USER FIRST CHOICE\n",
    "map[row][column]='🤞'\n",
    "print(f'{row1}\\n{row2}\\n{row3}')\n",
    "########################################################################\n",
    "your_choice=input(\"Enter your second choice: \")\n",
    "row=int(your_choice[0])-1\n",
    "column=int(your_choice[1])-1\n",
    "if int(your_choice)==computer_choice:\n",
    "    print(\"✌️✌️✌️Yay you won!✌️✌️✌️\")\n",
    "    map[row][column]='🏆'\n",
    "    print(f'{row1}\\n{row2}\\n{row3}')\n",
    "    sys.exit()\n",
    "# INDICATING USER SECOND CHOICE\n",
    "map[row][column]='🤞'\n",
    "print(f'{row1}\\n{row2}\\n{row3}')\n",
    "\n",
    "#########################################################################\n",
    "your_choice=input(\"Enter your third choice: \")\n",
    "row=int(your_choice[0])-1\n",
    "column=int(your_choice[1])-1\n",
    "if int(your_choice)==computer_choice:\n",
    "    print(\"✌️✌️✌️Yay you won!✌️✌️✌️\")\n",
    "    map[row][column]='🏆'\n",
    "    print(f'{row1}\\n{row2}\\n{row3}')\n",
    "    sys.exit()\n",
    "# INDICATING USER THIRD CHOICE\n",
    "map[row][column]='🤞'\n",
    "print(f'{row1}\\n{row2}\\n{row3}')\n",
    "           \n",
    "           \n",
    "\n"
   ]
  },
  {
   "cell_type": "code",
   "execution_count": null,
   "id": "b8e96d2d-65b9-4e21-a59e-2f324a702c05",
   "metadata": {},
   "outputs": [],
   "source": []
  }
 ],
 "metadata": {
  "kernelspec": {
   "display_name": "Python 3 (ipykernel)",
   "language": "python",
   "name": "python3"
  },
  "language_info": {
   "codemirror_mode": {
    "name": "ipython",
    "version": 3
   },
   "file_extension": ".py",
   "mimetype": "text/x-python",
   "name": "python",
   "nbconvert_exporter": "python",
   "pygments_lexer": "ipython3",
   "version": "3.10.8"
  }
 },
 "nbformat": 4,
 "nbformat_minor": 5
}
